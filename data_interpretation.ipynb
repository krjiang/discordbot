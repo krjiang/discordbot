{
 "metadata": {
  "language_info": {
   "codemirror_mode": {
    "name": "ipython",
    "version": 3
   },
   "file_extension": ".py",
   "mimetype": "text/x-python",
   "name": "python",
   "nbconvert_exporter": "python",
   "pygments_lexer": "ipython3",
   "version": "3.8.5-final"
  },
  "orig_nbformat": 2,
  "kernelspec": {
   "name": "python3",
   "display_name": "Python 3.8.5 64-bit ('Kevin': virtualenv)",
   "metadata": {
    "interpreter": {
     "hash": "2e866f0e2aa140c3884bc029dbe31d56837afa270cbfff6f5c57dbc7b48b8e98"
    }
   }
  }
 },
 "nbformat": 4,
 "nbformat_minor": 2,
 "cells": [
  {
   "cell_type": "code",
   "execution_count": null,
   "metadata": {},
   "outputs": [],
   "source": [
    "import pandas as pd\n",
    "import utils\n",
    "import re\n",
    "\n",
    "df = pd.read_csv('data.csv')\n",
    "df.dropna(axis=0)"
   ]
  },
  {
   "cell_type": "code",
   "execution_count": null,
   "metadata": {
    "tags": []
   },
   "outputs": [],
   "source": [
    "def sort_by_words(df):\n",
    "    result = pd.DataFrame(columns = ['word', 'author', 'count'])\n",
    "    for index, row in df.iterrows():\n",
    "        content = row['content']\n",
    "        author = row['author']\n",
    "        for word in str(content).split():\n",
    "            word = re.sub(r'[^\\w\\s]', '', word)\n",
    "            word = word.lower()\n",
    "            if not word:\n",
    "                continue\n",
    "            if ((result['word'] == word) & (result['author'] == author)).any():\n",
    "                result.loc[(result['word'] == word) & (result['author'] == author), 'count'] += 1\n",
    "            else:\n",
    "                result.loc[len(result)] = [word, author, 1]\n",
    "    return result"
   ]
  },
  {
   "cell_type": "code",
   "execution_count": null,
   "metadata": {
    "tags": []
   },
   "outputs": [],
   "source": [
    "df = pd.read_csv('sortedByWords.csv')\n",
    "df = df.sort_values(by = 'count', ascending = False)"
   ]
  },
  {
   "cell_type": "code",
   "execution_count": null,
   "metadata": {
    "tags": []
   },
   "outputs": [],
   "source": [
    "percentdf = pd.DataFrame(columns = ['word', 'percentage', 'author'])\n",
    "for author in df['author'].unique():\n",
    "    percentdf = percentdf.append(utils.percentage(df, author))\n",
    "percentdf"
   ]
  },
  {
   "cell_type": "code",
   "execution_count": null,
   "metadata": {},
   "outputs": [],
   "source": [
    "file_location = 'testdata.csv'\n",
    "df.to_csv(file_location)\n",
    "file_location = 'percentdata.csv'\n",
    "percentdf.to_csv(file_location)"
   ]
  },
  {
   "cell_type": "code",
   "execution_count": null,
   "metadata": {
    "tags": []
   },
   "outputs": [],
   "source": [
    "author = '______'\n",
    "utils.top_10_words(percentdf, author)"
   ]
  },
  {
   "cell_type": "code",
   "execution_count": null,
   "metadata": {},
   "outputs": [],
   "source": [
    "result = pd.DataFrame(columns = ['author', 'unique'])\n",
    "for author in df['author'].unique():\n",
    "    authordf = df[df['author'] == author]\n",
    "    result.loc[len(result)] = [author, len(authordf)]\n",
    "result.sort_values(by = 'unique', ascending = False)"
   ]
  },
  {
   "cell_type": "code",
   "execution_count": null,
   "metadata": {},
   "outputs": [],
   "source": []
  }
 ]
}