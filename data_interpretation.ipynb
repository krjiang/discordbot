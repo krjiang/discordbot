{
 "metadata": {
  "language_info": {
   "codemirror_mode": {
    "name": "ipython",
    "version": 3
   },
   "file_extension": ".py",
   "mimetype": "text/x-python",
   "name": "python",
   "nbconvert_exporter": "python",
   "pygments_lexer": "ipython3",
   "version": "3.8.5-final"
  },
  "orig_nbformat": 2,
  "kernelspec": {
   "name": "python3",
   "display_name": "Python 3.8.5 64-bit ('Kevin': virtualenv)",
   "metadata": {
    "interpreter": {
     "hash": "2e866f0e2aa140c3884bc029dbe31d56837afa270cbfff6f5c57dbc7b48b8e98"
    }
   }
  }
 },
 "nbformat": 4,
 "nbformat_minor": 2,
 "cells": [
  {
   "cell_type": "code",
   "execution_count": 1,
   "metadata": {},
   "outputs": [
    {
     "output_type": "execute_result",
     "data": {
      "text/plain": [
       "      Unnamed: 0                                   content  \\\n",
       "0              0                                      shhh   \n",
       "1              1                                      lmao   \n",
       "2              2           nice one <@!178916778276159488>   \n",
       "3              3                     🥲 bart wasted my time   \n",
       "4              4                        im leaving rn haha   \n",
       "...          ...                                       ...   \n",
       "9995        9995  if you watch it i'll rewatch it with you   \n",
       "9996        9996                       watching this video   \n",
       "9997        9997                                 i'm dying   \n",
       "9998        9998                                       bro   \n",
       "9999        9999                 maybe i will check it out   \n",
       "\n",
       "                         date         author  \n",
       "0     2021-03-29 23:14:43.088  chopstix#4153  \n",
       "1     2021-03-29 23:14:41.487  chopstix#4153  \n",
       "2     2021-03-29 23:14:37.588    brando#8737  \n",
       "3     2021-03-29 22:19:15.264  Longyyyy#0922  \n",
       "4     2021-03-29 22:18:41.926       Adi#1215  \n",
       "...                       ...            ...  \n",
       "9995  2020-11-27 21:24:26.417      Mico#6074  \n",
       "9996  2020-11-27 21:24:11.159      Mico#6074  \n",
       "9997  2020-11-27 21:24:07.871      Mico#6074  \n",
       "9998  2020-11-27 21:24:06.504      Mico#6074  \n",
       "9999  2020-11-27 21:23:04.938  chopstix#4153  \n",
       "\n",
       "[9684 rows x 4 columns]"
      ],
      "text/html": "<div>\n<style scoped>\n    .dataframe tbody tr th:only-of-type {\n        vertical-align: middle;\n    }\n\n    .dataframe tbody tr th {\n        vertical-align: top;\n    }\n\n    .dataframe thead th {\n        text-align: right;\n    }\n</style>\n<table border=\"1\" class=\"dataframe\">\n  <thead>\n    <tr style=\"text-align: right;\">\n      <th></th>\n      <th>Unnamed: 0</th>\n      <th>content</th>\n      <th>date</th>\n      <th>author</th>\n    </tr>\n  </thead>\n  <tbody>\n    <tr>\n      <th>0</th>\n      <td>0</td>\n      <td>shhh</td>\n      <td>2021-03-29 23:14:43.088</td>\n      <td>chopstix#4153</td>\n    </tr>\n    <tr>\n      <th>1</th>\n      <td>1</td>\n      <td>lmao</td>\n      <td>2021-03-29 23:14:41.487</td>\n      <td>chopstix#4153</td>\n    </tr>\n    <tr>\n      <th>2</th>\n      <td>2</td>\n      <td>nice one &lt;@!178916778276159488&gt;</td>\n      <td>2021-03-29 23:14:37.588</td>\n      <td>brando#8737</td>\n    </tr>\n    <tr>\n      <th>3</th>\n      <td>3</td>\n      <td>🥲 bart wasted my time</td>\n      <td>2021-03-29 22:19:15.264</td>\n      <td>Longyyyy#0922</td>\n    </tr>\n    <tr>\n      <th>4</th>\n      <td>4</td>\n      <td>im leaving rn haha</td>\n      <td>2021-03-29 22:18:41.926</td>\n      <td>Adi#1215</td>\n    </tr>\n    <tr>\n      <th>...</th>\n      <td>...</td>\n      <td>...</td>\n      <td>...</td>\n      <td>...</td>\n    </tr>\n    <tr>\n      <th>9995</th>\n      <td>9995</td>\n      <td>if you watch it i'll rewatch it with you</td>\n      <td>2020-11-27 21:24:26.417</td>\n      <td>Mico#6074</td>\n    </tr>\n    <tr>\n      <th>9996</th>\n      <td>9996</td>\n      <td>watching this video</td>\n      <td>2020-11-27 21:24:11.159</td>\n      <td>Mico#6074</td>\n    </tr>\n    <tr>\n      <th>9997</th>\n      <td>9997</td>\n      <td>i'm dying</td>\n      <td>2020-11-27 21:24:07.871</td>\n      <td>Mico#6074</td>\n    </tr>\n    <tr>\n      <th>9998</th>\n      <td>9998</td>\n      <td>bro</td>\n      <td>2020-11-27 21:24:06.504</td>\n      <td>Mico#6074</td>\n    </tr>\n    <tr>\n      <th>9999</th>\n      <td>9999</td>\n      <td>maybe i will check it out</td>\n      <td>2020-11-27 21:23:04.938</td>\n      <td>chopstix#4153</td>\n    </tr>\n  </tbody>\n</table>\n<p>9684 rows × 4 columns</p>\n</div>"
     },
     "metadata": {},
     "execution_count": 1
    }
   ],
   "source": [
    "import pandas as pd\n",
    "import utils\n",
    "import re\n",
    "\n",
    "df = pd.read_csv('data.csv')\n",
    "df.dropna(axis=0)"
   ]
  },
  {
   "cell_type": "code",
   "execution_count": 2,
   "metadata": {
    "tags": []
   },
   "outputs": [],
   "source": [
    "def sort_by_words(df):\n",
    "    result = pd.DataFrame(columns = ['word', 'author', 'count'])\n",
    "    for index, row in df.iterrows():\n",
    "        content = row['content']\n",
    "        author = row['author']\n",
    "        for word in str(content).split():\n",
    "            word = re.sub(r'[^\\w\\s]', '', word)\n",
    "            word = word.lower()\n",
    "            if not word:\n",
    "                continue\n",
    "            if ((result['word'] == word) & (result['author'] == author)).any():\n",
    "                result.loc[(result['word'] == word) & (result['author'] == author), 'count'] += 1\n",
    "            else:\n",
    "                result.loc[len(result)] = [word, author, 1]\n",
    "    return result"
   ]
  },
  {
   "cell_type": "code",
   "execution_count": 3,
   "metadata": {
    "tags": []
   },
   "outputs": [],
   "source": [
    "df = pd.read_csv('sortedByWords.csv')\n",
    "df = df.sort_values(by = 'count', ascending = False)"
   ]
  },
  {
   "cell_type": "code",
   "execution_count": 5,
   "metadata": {
    "tags": []
   },
   "outputs": [
    {
     "output_type": "execute_result",
     "data": {
      "text/plain": [
       "        word  percentage             author\n",
       "0          i    0.008179        Calvin#9140\n",
       "1        the    0.004486        Calvin#9140\n",
       "2          u    0.003714        Calvin#9140\n",
       "3          a    0.003025        Calvin#9140\n",
       "4         it    0.002984        Calvin#9140\n",
       "..       ...         ...                ...\n",
       "0        yes    0.000021         pokCy#7880\n",
       "1         so    0.000021         pokCy#7880\n",
       "2   handsome    0.000021         pokCy#7880\n",
       "3          u    0.000021         pokCy#7880\n",
       "0        NaN    0.000021  Birthday Bot#5876\n",
       "\n",
       "[15060 rows x 3 columns]"
      ],
      "text/html": "<div>\n<style scoped>\n    .dataframe tbody tr th:only-of-type {\n        vertical-align: middle;\n    }\n\n    .dataframe tbody tr th {\n        vertical-align: top;\n    }\n\n    .dataframe thead th {\n        text-align: right;\n    }\n</style>\n<table border=\"1\" class=\"dataframe\">\n  <thead>\n    <tr style=\"text-align: right;\">\n      <th></th>\n      <th>word</th>\n      <th>percentage</th>\n      <th>author</th>\n    </tr>\n  </thead>\n  <tbody>\n    <tr>\n      <th>0</th>\n      <td>i</td>\n      <td>0.008179</td>\n      <td>Calvin#9140</td>\n    </tr>\n    <tr>\n      <th>1</th>\n      <td>the</td>\n      <td>0.004486</td>\n      <td>Calvin#9140</td>\n    </tr>\n    <tr>\n      <th>2</th>\n      <td>u</td>\n      <td>0.003714</td>\n      <td>Calvin#9140</td>\n    </tr>\n    <tr>\n      <th>3</th>\n      <td>a</td>\n      <td>0.003025</td>\n      <td>Calvin#9140</td>\n    </tr>\n    <tr>\n      <th>4</th>\n      <td>it</td>\n      <td>0.002984</td>\n      <td>Calvin#9140</td>\n    </tr>\n    <tr>\n      <th>...</th>\n      <td>...</td>\n      <td>...</td>\n      <td>...</td>\n    </tr>\n    <tr>\n      <th>0</th>\n      <td>yes</td>\n      <td>0.000021</td>\n      <td>pokCy#7880</td>\n    </tr>\n    <tr>\n      <th>1</th>\n      <td>so</td>\n      <td>0.000021</td>\n      <td>pokCy#7880</td>\n    </tr>\n    <tr>\n      <th>2</th>\n      <td>handsome</td>\n      <td>0.000021</td>\n      <td>pokCy#7880</td>\n    </tr>\n    <tr>\n      <th>3</th>\n      <td>u</td>\n      <td>0.000021</td>\n      <td>pokCy#7880</td>\n    </tr>\n    <tr>\n      <th>0</th>\n      <td>NaN</td>\n      <td>0.000021</td>\n      <td>Birthday Bot#5876</td>\n    </tr>\n  </tbody>\n</table>\n<p>15060 rows × 3 columns</p>\n</div>"
     },
     "metadata": {},
     "execution_count": 5
    }
   ],
   "source": [
    "percentdf = pd.DataFrame(columns = ['word', 'percentage', 'author'])\n",
    "for author in df['author'].unique():\n",
    "    percentdf = percentdf.append(utils.percentage(df, author))\n",
    "percentdf"
   ]
  },
  {
   "cell_type": "code",
   "execution_count": 6,
   "metadata": {},
   "outputs": [],
   "source": [
    "file_location = 'testdata.csv'\n",
    "df.to_csv(file_location)\n",
    "file_location = 'percentdata.csv'\n",
    "percentdf.to_csv(file_location)"
   ]
  },
  {
   "cell_type": "code",
   "execution_count": 8,
   "metadata": {
    "tags": []
   },
   "outputs": [
    {
     "output_type": "execute_result",
     "data": {
      "text/plain": [
       "[]"
      ]
     },
     "metadata": {},
     "execution_count": 8
    }
   ],
   "source": [
    "author = '______'\n",
    "utils.top_10_words(percentdf, author)"
   ]
  },
  {
   "cell_type": "code",
   "execution_count": 9,
   "metadata": {},
   "outputs": [
    {
     "output_type": "execute_result",
     "data": {
      "text/plain": [
       "                  author unique\n",
       "0            Calvin#9140   2001\n",
       "1            brando#8737   1456\n",
       "2        hotshot396#4840   1206\n",
       "3            Pierce#8954   1145\n",
       "5              Mico#6074    976\n",
       "4          chopstix#4153    914\n",
       "6               Adi#1215    893\n",
       "11      Kielbasaboy#7027    854\n",
       "10     maxxxxxxxxxx#9258    842\n",
       "8         boostedjg#6354    817\n",
       "9             Woozy#5737    756\n",
       "7      crazyazhun09#5259    700\n",
       "12              zel#0242    600\n",
       "13            james#0454    324\n",
       "14      Patsarebest#2548    321\n",
       "15         Longyyyy#0922    201\n",
       "17             ANDY#0669    184\n",
       "16        Wrongnote#3184    149\n",
       "18             Tahm#7419    149\n",
       "19             Seth#0778    139\n",
       "20       D3vilsluck#7163     92\n",
       "25           aurren#7777     64\n",
       "21            Erni3#8552     61\n",
       "24    Loadedrakeman#0396     40\n",
       "23      spoodermatt#1757     37\n",
       "22            Sw1ft#8896     25\n",
       "27       ImShinyang#5236     22\n",
       "28           Nathan#8008     19\n",
       "26         Aron1711#5813     18\n",
       "33  henzowithabenzo#2079     15\n",
       "35            Natta#6487      9\n",
       "30            jesss#9113      7\n",
       "29        ashywashy#8382      5\n",
       "32         Wumaster#2122      4\n",
       "34            Paul*#3292      4\n",
       "36          Ekeziel#8764      4\n",
       "38            pokCy#7880      4\n",
       "31         grundjim#6503      1\n",
       "37             Pham#1105      1\n",
       "39     Birthday Bot#5876      1"
      ],
      "text/html": "<div>\n<style scoped>\n    .dataframe tbody tr th:only-of-type {\n        vertical-align: middle;\n    }\n\n    .dataframe tbody tr th {\n        vertical-align: top;\n    }\n\n    .dataframe thead th {\n        text-align: right;\n    }\n</style>\n<table border=\"1\" class=\"dataframe\">\n  <thead>\n    <tr style=\"text-align: right;\">\n      <th></th>\n      <th>author</th>\n      <th>unique</th>\n    </tr>\n  </thead>\n  <tbody>\n    <tr>\n      <th>0</th>\n      <td>Calvin#9140</td>\n      <td>2001</td>\n    </tr>\n    <tr>\n      <th>1</th>\n      <td>brando#8737</td>\n      <td>1456</td>\n    </tr>\n    <tr>\n      <th>2</th>\n      <td>hotshot396#4840</td>\n      <td>1206</td>\n    </tr>\n    <tr>\n      <th>3</th>\n      <td>Pierce#8954</td>\n      <td>1145</td>\n    </tr>\n    <tr>\n      <th>5</th>\n      <td>Mico#6074</td>\n      <td>976</td>\n    </tr>\n    <tr>\n      <th>4</th>\n      <td>chopstix#4153</td>\n      <td>914</td>\n    </tr>\n    <tr>\n      <th>6</th>\n      <td>Adi#1215</td>\n      <td>893</td>\n    </tr>\n    <tr>\n      <th>11</th>\n      <td>Kielbasaboy#7027</td>\n      <td>854</td>\n    </tr>\n    <tr>\n      <th>10</th>\n      <td>maxxxxxxxxxx#9258</td>\n      <td>842</td>\n    </tr>\n    <tr>\n      <th>8</th>\n      <td>boostedjg#6354</td>\n      <td>817</td>\n    </tr>\n    <tr>\n      <th>9</th>\n      <td>Woozy#5737</td>\n      <td>756</td>\n    </tr>\n    <tr>\n      <th>7</th>\n      <td>crazyazhun09#5259</td>\n      <td>700</td>\n    </tr>\n    <tr>\n      <th>12</th>\n      <td>zel#0242</td>\n      <td>600</td>\n    </tr>\n    <tr>\n      <th>13</th>\n      <td>james#0454</td>\n      <td>324</td>\n    </tr>\n    <tr>\n      <th>14</th>\n      <td>Patsarebest#2548</td>\n      <td>321</td>\n    </tr>\n    <tr>\n      <th>15</th>\n      <td>Longyyyy#0922</td>\n      <td>201</td>\n    </tr>\n    <tr>\n      <th>17</th>\n      <td>ANDY#0669</td>\n      <td>184</td>\n    </tr>\n    <tr>\n      <th>16</th>\n      <td>Wrongnote#3184</td>\n      <td>149</td>\n    </tr>\n    <tr>\n      <th>18</th>\n      <td>Tahm#7419</td>\n      <td>149</td>\n    </tr>\n    <tr>\n      <th>19</th>\n      <td>Seth#0778</td>\n      <td>139</td>\n    </tr>\n    <tr>\n      <th>20</th>\n      <td>D3vilsluck#7163</td>\n      <td>92</td>\n    </tr>\n    <tr>\n      <th>25</th>\n      <td>aurren#7777</td>\n      <td>64</td>\n    </tr>\n    <tr>\n      <th>21</th>\n      <td>Erni3#8552</td>\n      <td>61</td>\n    </tr>\n    <tr>\n      <th>24</th>\n      <td>Loadedrakeman#0396</td>\n      <td>40</td>\n    </tr>\n    <tr>\n      <th>23</th>\n      <td>spoodermatt#1757</td>\n      <td>37</td>\n    </tr>\n    <tr>\n      <th>22</th>\n      <td>Sw1ft#8896</td>\n      <td>25</td>\n    </tr>\n    <tr>\n      <th>27</th>\n      <td>ImShinyang#5236</td>\n      <td>22</td>\n    </tr>\n    <tr>\n      <th>28</th>\n      <td>Nathan#8008</td>\n      <td>19</td>\n    </tr>\n    <tr>\n      <th>26</th>\n      <td>Aron1711#5813</td>\n      <td>18</td>\n    </tr>\n    <tr>\n      <th>33</th>\n      <td>henzowithabenzo#2079</td>\n      <td>15</td>\n    </tr>\n    <tr>\n      <th>35</th>\n      <td>Natta#6487</td>\n      <td>9</td>\n    </tr>\n    <tr>\n      <th>30</th>\n      <td>jesss#9113</td>\n      <td>7</td>\n    </tr>\n    <tr>\n      <th>29</th>\n      <td>ashywashy#8382</td>\n      <td>5</td>\n    </tr>\n    <tr>\n      <th>32</th>\n      <td>Wumaster#2122</td>\n      <td>4</td>\n    </tr>\n    <tr>\n      <th>34</th>\n      <td>Paul*#3292</td>\n      <td>4</td>\n    </tr>\n    <tr>\n      <th>36</th>\n      <td>Ekeziel#8764</td>\n      <td>4</td>\n    </tr>\n    <tr>\n      <th>38</th>\n      <td>pokCy#7880</td>\n      <td>4</td>\n    </tr>\n    <tr>\n      <th>31</th>\n      <td>grundjim#6503</td>\n      <td>1</td>\n    </tr>\n    <tr>\n      <th>37</th>\n      <td>Pham#1105</td>\n      <td>1</td>\n    </tr>\n    <tr>\n      <th>39</th>\n      <td>Birthday Bot#5876</td>\n      <td>1</td>\n    </tr>\n  </tbody>\n</table>\n</div>"
     },
     "metadata": {},
     "execution_count": 9
    }
   ],
   "source": [
    "result = pd.DataFrame(columns = ['author', 'unique'])\n",
    "for author in df['author'].unique():\n",
    "    authordf = df[df['author'] == author]\n",
    "    result.loc[len(result)] = [author, len(authordf)]\n",
    "result.sort_values(by = 'unique', ascending = False)"
   ]
  },
  {
   "cell_type": "code",
   "execution_count": null,
   "metadata": {},
   "outputs": [],
   "source": []
  }
 ]
}